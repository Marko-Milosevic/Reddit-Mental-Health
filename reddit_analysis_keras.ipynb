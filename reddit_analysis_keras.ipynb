{
 "cells": [
  {
   "cell_type": "markdown",
   "id": "b1f338a7",
   "metadata": {},
   "source": [
    "Following the tensor flow tutorial https://www.tensorflow.org/text/tutorials/text_classification_rnn."
   ]
  },
  {
   "cell_type": "code",
   "execution_count": 86,
   "id": "5e0b52f1",
   "metadata": {},
   "outputs": [],
   "source": [
    "import pandas as pd\n",
    "import numpy as np\n",
    "import seaborn as sns\n",
    "import matplotlib.pyplot as plt\n",
    "plt.style.use('ggplot')\n",
    "import tensorflow as tf\n",
    "from sklearn.feature_extraction.text import CountVectorizer, TfidfTransformer\n",
    "from sklearn.model_selection import train_test_split, GridSearchCV\n",
    "from sklearn.preprocessing import LabelEncoder\n",
    "from sklearn.preprocessing import LabelBinarizer"
   ]
  },
  {
   "cell_type": "code",
   "execution_count": 114,
   "id": "d8dcfae9",
   "metadata": {},
   "outputs": [
    {
     "data": {
      "text/html": [
       "<div>\n",
       "<style scoped>\n",
       "    .dataframe tbody tr th:only-of-type {\n",
       "        vertical-align: middle;\n",
       "    }\n",
       "\n",
       "    .dataframe tbody tr th {\n",
       "        vertical-align: top;\n",
       "    }\n",
       "\n",
       "    .dataframe thead th {\n",
       "        text-align: right;\n",
       "    }\n",
       "</style>\n",
       "<table border=\"1\" class=\"dataframe\">\n",
       "  <thead>\n",
       "    <tr style=\"text-align: right;\">\n",
       "      <th></th>\n",
       "      <th>body</th>\n",
       "      <th>score</th>\n",
       "      <th>target</th>\n",
       "    </tr>\n",
       "  </thead>\n",
       "  <tbody>\n",
       "    <tr>\n",
       "      <th>0</th>\n",
       "      <td>Hiethcliff, Garfield..?</td>\n",
       "      <td>1</td>\n",
       "      <td>0</td>\n",
       "    </tr>\n",
       "    <tr>\n",
       "      <th>1</th>\n",
       "      <td>That looks like a Garfield</td>\n",
       "      <td>1</td>\n",
       "      <td>0</td>\n",
       "    </tr>\n",
       "    <tr>\n",
       "      <th>2</th>\n",
       "      <td>Tell it to pick up some weights or gloves… no ...</td>\n",
       "      <td>1</td>\n",
       "      <td>0</td>\n",
       "    </tr>\n",
       "    <tr>\n",
       "      <th>3</th>\n",
       "      <td>Please put him on a diet now or he will die wa...</td>\n",
       "      <td>1</td>\n",
       "      <td>0</td>\n",
       "    </tr>\n",
       "    <tr>\n",
       "      <th>4</th>\n",
       "      <td>I bet this dad never agreed to have a dog in t...</td>\n",
       "      <td>1</td>\n",
       "      <td>0</td>\n",
       "    </tr>\n",
       "  </tbody>\n",
       "</table>\n",
       "</div>"
      ],
      "text/plain": [
       "                                                body  score  target\n",
       "0                            Hiethcliff, Garfield..?      1       0\n",
       "1                         That looks like a Garfield      1       0\n",
       "2  Tell it to pick up some weights or gloves… no ...      1       0\n",
       "3  Please put him on a diet now or he will die wa...      1       0\n",
       "4  I bet this dad never agreed to have a dog in t...      1       0"
      ]
     },
     "execution_count": 114,
     "metadata": {},
     "output_type": "execute_result"
    }
   ],
   "source": [
    "df = pd.read_csv(\"clean.csv\")\n",
    "df.drop(df.columns[[0]], axis = 1, inplace = True)\n",
    "df.head()"
   ]
  },
  {
   "cell_type": "code",
   "execution_count": 178,
   "id": "8a0fec7d",
   "metadata": {},
   "outputs": [],
   "source": [
    "X = df['body']\n",
    "y = df['target']"
   ]
  },
  {
   "cell_type": "code",
   "execution_count": 179,
   "id": "276cbfc3",
   "metadata": {},
   "outputs": [],
   "source": [
    "y = LabelBinarizer().fit_transform(y)"
   ]
  },
  {
   "cell_type": "code",
   "execution_count": 180,
   "id": "86411aa0",
   "metadata": {},
   "outputs": [
    {
     "name": "stdout",
     "output_type": "stream",
     "text": [
      "6954     To be fair pizza would provide a lot more supp...\n",
      "9851     Yes:(. That’s anxiety for you!!!!  It’s so awf...\n",
      "7140     So the therapist had the same question. Basica...\n",
      "3083     Hey /u/Proud_Midnight_6070! Thank you for your...\n",
      "874                                  That’s a baby tortie!\n",
      "                               ...                        \n",
      "4365     The constant yo-yoing is really what makes me ...\n",
      "10026                         wow, I miss going to one. :)\n",
      "1076                       Koala bears and wallabies, dude\n",
      "4801     Had to stop studying and working. My brain is ...\n",
      "8150     She fixed me, then she broke me. It hurts so m...\n",
      "Name: body, Length: 10095, dtype: object 5235     Unless it is really heart-rending music, and t...\n",
      "5142     I recently got fired (my dad would say \"dismis...\n",
      "7946     I FEEL YOU\\n\\nSO MUCH\\n\\nomg\\n\\nThere were tim...\n",
      "9497     Thank you.. and I wish I could take that time ...\n",
      "4751                              I only love that part. 😆\n",
      "                               ...                        \n",
      "5909     I’m so sorry all this happened to you on your ...\n",
      "13020    **Check your flair you chose, it might be givi...\n",
      "9498     No sorry drugs don’t cure anxiety lol, just he...\n",
      "12064    That's awesome, seriously! I hope you have a g...\n",
      "7735     So is she under the desk cuz of abortion laws ...\n",
      "Name: body, Length: 2019, dtype: object 12454    i’m not a doctor, you know your body very well...\n",
      "3100            Our imperfections are what makes us human.\n",
      "6207     yeah my parents, tbh they were never emotional...\n",
      "1601     About what portion of people in the world do y...\n",
      "6590     I tried to kill myself a few years back and wh...\n",
      "                               ...                        \n",
      "10912    Had one during school. The teacher made me tak...\n",
      "4755     I give my best luck to you, I am australian af...\n",
      "11506                    I get anxiety over death, rip me.\n",
      "7576     [https://www.depression-anxiety-stress-test.or...\n",
      "9399     That is helpful! Thank you... it’s always nice...\n",
      "Name: body, Length: 1346, dtype: object\n"
     ]
    }
   ],
   "source": [
    "train_ratio = 0.75\n",
    "validation_ratio = 0.15\n",
    "test_ratio = 0.10\n",
    "\n",
    "X_train, X_test, y_train, y_test = train_test_split(X, y, test_size = 1 - train_ratio, stratify=y)\n",
    "X_val, X_test, y_val, y_test = train_test_split(X_test, y_test, test_size=test_ratio/(test_ratio + validation_ratio)) \n",
    "\n",
    "print(X_train, X_val, X_test)"
   ]
  },
  {
   "cell_type": "code",
   "execution_count": 181,
   "id": "36e84b56",
   "metadata": {},
   "outputs": [],
   "source": [
    "CV = CountVectorizer(stop_words='english', strip_accents = 'ascii')\n",
    "X_train_counts = CV.fit_transform(X_train)\n",
    "TFT = TfidfTransformer(use_idf=False).fit(X_train_counts)\n",
    "X_train = TFT.transform(X_train_counts)\n",
    "X_val = CV.transform(X_val)\n",
    "X_test = CV.transform(X_test)\n",
    "X_train = X_train.toarray()\n",
    "X_val.toarray()\n",
    "X_test = X_test.toarray()"
   ]
  },
  {
   "cell_type": "code",
   "execution_count": 182,
   "id": "ebfc205f",
   "metadata": {},
   "outputs": [
    {
     "data": {
      "text/plain": [
       "((10095, 15792),\n",
       " (10095, 3),\n",
       " (2019, 15792),\n",
       " (2019, 3),\n",
       " (1346, 15792),\n",
       " (1346, 3))"
      ]
     },
     "execution_count": 182,
     "metadata": {},
     "output_type": "execute_result"
    }
   ],
   "source": [
    "X_train.shape ,y_train.shape,X_val.shape, y_val.shape, X_test.shape, y_test.shape"
   ]
  },
  {
   "cell_type": "code",
   "execution_count": 195,
   "id": "419de131",
   "metadata": {},
   "outputs": [],
   "source": [
    "def plot_history(history):\n",
    "    acc = history.history['accuracy']\n",
    "    val_acc = history.history['val_accuracy']\n",
    "    loss = history.history['loss']\n",
    "    val_loss = history.history['val_loss']\n",
    "    x = range(1, len(acc) + 1)\n",
    "\n",
    "    plt.figure(figsize=(12, 5))\n",
    "    plt.subplot(1, 2, 1)\n",
    "    plt.plot(x, acc, 'b', label='Training acc')\n",
    "    plt.plot(x, val_acc, 'r', label='Validation acc')\n",
    "    plt.title('Training and validation accuracy')\n",
    "    plt.legend()\n",
    "    plt.subplot(1, 2, 2)\n",
    "    plt.plot(x, loss, 'b', label='Training loss')\n",
    "    plt.plot(x, val_loss, 'r', label='Validation loss')\n",
    "    plt.title('Training and validation loss')\n",
    "    plt.legend()"
   ]
  },
  {
   "cell_type": "code",
   "execution_count": 198,
   "id": "2a0cd03f",
   "metadata": {},
   "outputs": [],
   "source": [
    "input_dim = X_train.shape[1]\n",
    "model = tf.keras.Sequential([\n",
    "    tf.keras.layers.Dense(128, input_dim=input_dim, activation='relu'),\n",
    "    tf.keras.layers.Dense(3, activation='sigmoid')\n",
    "])"
   ]
  },
  {
   "cell_type": "code",
   "execution_count": 199,
   "id": "c255fdee",
   "metadata": {},
   "outputs": [],
   "source": [
    "model.compile(loss='categorical_crossentropy',\n",
    "              optimizer='adam',\n",
    "              metrics=['accuracy'])"
   ]
  },
  {
   "cell_type": "code",
   "execution_count": 200,
   "id": "e0b77446",
   "metadata": {},
   "outputs": [],
   "source": [
    "history = model.fit(X_train, y_train, epochs=25,validation_data=(X_val, y_val),batch_size=128,verbose=False)"
   ]
  },
  {
   "cell_type": "code",
   "execution_count": 201,
   "id": "8fa74633",
   "metadata": {},
   "outputs": [
    {
     "name": "stdout",
     "output_type": "stream",
     "text": [
      "Training Accuracy: 0.9859\n",
      "Validation Accuracy:  0.6691\n",
      "Test Accuracy:  0.6701\n"
     ]
    }
   ],
   "source": [
    "loss, accuracy = model.evaluate(X_train, y_train, verbose=False)\n",
    "print(\"Training Accuracy: {:.4f}\".format(accuracy))\n",
    "loss, accuracy = model.evaluate(X_val, y_val, verbose=False)\n",
    "print(\"Validation Accuracy:  {:.4f}\".format(accuracy))\n",
    "loss, accuracy = model.evaluate(X_test, y_test, verbose=False)\n",
    "print(\"Test Accuracy:  {:.4f}\".format(accuracy))"
   ]
  },
  {
   "cell_type": "code",
   "execution_count": 202,
   "id": "dfbea351",
   "metadata": {},
   "outputs": [
    {
     "data": {
      "image/png": "[encoded data removed]",
      "text/plain": [
       "<Figure size 864x360 with 2 Axes>"
      ]
     },
     "metadata": {},
     "output_type": "display_data"
    }
   ],
   "source": [
    "plot_history(history)"
   ]
  },
  {
   "cell_type": "code",
   "execution_count": 197,
   "id": "333814ae",
   "metadata": {},
   "outputs": [],
   "source": [
    "tf.keras.backend.clear_session()"
   ]
  },
  {
   "cell_type": "code",
   "execution_count": null,
   "id": "48bdb972",
   "metadata": {},
   "outputs": [],
   "source": []
  }
 ],
 "metadata": {
  "kernelspec": {
   "display_name": "Python 3 (ipykernel)",
   "language": "python",
   "name": "python3"
  },
  "language_info": {
   "codemirror_mode": {
    "name": "ipython",
    "version": 3
   },
   "file_extension": ".py",
   "mimetype": "text/x-python",
   "name": "python",
   "nbconvert_exporter": "python",
   "pygments_lexer": "ipython3",
   "version": "3.7.6"
  }
 },
 "nbformat": 4,
 "nbformat_minor": 5
}
